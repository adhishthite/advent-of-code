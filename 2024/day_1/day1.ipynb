{
 "cells": [
  {
   "cell_type": "markdown",
   "metadata": {},
   "source": [
    "# Advent of Code - Day 1"
   ]
  },
  {
   "cell_type": "code",
   "execution_count": 1,
   "metadata": {},
   "outputs": [],
   "source": [
    "import os\n",
    "import json\n",
    "\n",
    "FILE_PATH = \"input.txt\""
   ]
  },
  {
   "cell_type": "markdown",
   "metadata": {},
   "source": [
    "## Approach\n",
    "\n",
    "- Read the file\n",
    "- split it into 2 lists\n",
    "- Note that the list contents are as a string so convert it to int\n",
    "- Then sort each of the lists\n",
    "- Once that is done, start comparing each element, and calculate the distance"
   ]
  },
  {
   "cell_type": "markdown",
   "metadata": {},
   "source": [
    "### Set up helper functions"
   ]
  },
  {
   "cell_type": "code",
   "execution_count": 2,
   "metadata": {},
   "outputs": [],
   "source": [
    "def get_distance(a: int, b: int) -> int:\n",
    "    \"\"\"\n",
    "    Get distance between two numbers\n",
    "    \"\"\"\n",
    "    if a > b:\n",
    "        return a - b\n",
    "    else:\n",
    "        return b - a\n",
    "\n",
    "\n",
    "def get_sorted_list(lst: list) -> list:\n",
    "    \"\"\"\n",
    "    Get sorted list\n",
    "    \"\"\"\n",
    "    return sorted(lst)\n",
    "\n",
    "\n",
    "def open_file(file_path: str) -> list:\n",
    "    \"\"\"\n",
    "    Open file\n",
    "    The file is a txt file\n",
    "    \"\"\"\n",
    "    with open(file_path, 'r') as file:\n",
    "        content = [line.strip() for line in file]\n",
    "    return content"
   ]
  },
  {
   "cell_type": "code",
   "execution_count": 3,
   "metadata": {},
   "outputs": [
    {
     "name": "stdout",
     "output_type": "stream",
     "text": [
      "Length of file content: 1000\n"
     ]
    }
   ],
   "source": [
    "# Step 1\n",
    "file_content = open_file(FILE_PATH)\n",
    "assert isinstance(file_content, list)\n",
    "\n",
    "content_size = len(file_content)\n",
    "print(f\"Length of file content: {content_size}\")"
   ]
  },
  {
   "cell_type": "code",
   "execution_count": 4,
   "metadata": {},
   "outputs": [],
   "source": [
    "# Start iterating, split, convert to integer and store in two separate lists\n",
    "list_a = []\n",
    "list_b = []\n",
    "\n",
    "for line in file_content:\n",
    "    t = line.strip().split()\n",
    "    t = [int(i) for i in t]\n",
    "    list_a.append(t[0])\n",
    "    list_b.append(t[1])\n",
    "\n",
    "assert isinstance(list_a, list)\n",
    "assert isinstance(list_b, list)\n",
    "assert len(list_a) == content_size\n",
    "assert len(list_b) == content_size\n",
    "assert len(list_a) == len(list_b)"
   ]
  },
  {
   "cell_type": "code",
   "execution_count": 5,
   "metadata": {},
   "outputs": [],
   "source": [
    "# Sort\n",
    "list_a = get_sorted_list(list_a)\n",
    "list_b = get_sorted_list(list_b)"
   ]
  },
  {
   "cell_type": "code",
   "execution_count": 6,
   "metadata": {},
   "outputs": [],
   "source": [
    "# get distance between parallel elements in each list, and store that distance as a list element\n",
    "\n",
    "distances_list = []\n",
    "\n",
    "for i in range(len(list_a)):\n",
    "    distances_list.append(get_distance(list_a[i], list_b[i]))"
   ]
  },
  {
   "cell_type": "code",
   "execution_count": 7,
   "metadata": {},
   "outputs": [
    {
     "name": "stdout",
     "output_type": "stream",
     "text": [
      "Sum of distances: 1882714\n"
     ]
    }
   ],
   "source": [
    "# Get sum of distances\n",
    "sum_distances = sum(distances_list)\n",
    "print(f\"Sum of distances: {sum_distances}\")"
   ]
  },
  {
   "cell_type": "markdown",
   "metadata": {},
   "source": [
    "## Part 2"
   ]
  },
  {
   "cell_type": "code",
   "execution_count": 8,
   "metadata": {},
   "outputs": [],
   "source": [
    "def get_occurrence_map(lst: list) -> dict:\n",
    "    \"\"\"\n",
    "    Get a dict of the counts of each element in the list\n",
    "    \"\"\"\n",
    "    occurrence_map = {}\n",
    "    for element in lst:\n",
    "        if element in occurrence_map:\n",
    "            occurrence_map[element] += 1\n",
    "        else:\n",
    "            occurrence_map[element] = 1\n",
    "    return occurrence_map\n",
    "\n",
    "# We need an occurrence map of list_b so that we can calculate the similiarity scores\n",
    "list_b_counts = get_occurrence_map(list_b)"
   ]
  },
  {
   "cell_type": "code",
   "execution_count": 9,
   "metadata": {},
   "outputs": [
    {
     "name": "stdout",
     "output_type": "stream",
     "text": [
      "Sum of similarity score: 19437052\n"
     ]
    }
   ],
   "source": [
    "# Start by iterating list_a, multiplying the value by the occurrence count in list_b\n",
    "similarity_score = []\n",
    "\n",
    "for item in list_a:\n",
    "    similarity_score.append(item * list_b_counts.get(item, 0))\n",
    "\n",
    "sum_similarity_score = sum(similarity_score)\n",
    "print(f\"Sum of similarity score: {sum_similarity_score}\")"
   ]
  },
  {
   "cell_type": "code",
   "execution_count": null,
   "metadata": {},
   "outputs": [],
   "source": []
  }
 ],
 "metadata": {
  "kernelspec": {
   "display_name": "advent-of-code-7X3w5DMP-py3.13",
   "language": "python",
   "name": "python3"
  },
  "language_info": {
   "codemirror_mode": {
    "name": "ipython",
    "version": 3
   },
   "file_extension": ".py",
   "mimetype": "text/x-python",
   "name": "python",
   "nbconvert_exporter": "python",
   "pygments_lexer": "ipython3",
   "version": "3.13.0"
  }
 },
 "nbformat": 4,
 "nbformat_minor": 2
}
