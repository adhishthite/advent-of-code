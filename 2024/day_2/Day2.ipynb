{
 "cells": [
  {
   "cell_type": "markdown",
   "metadata": {},
   "source": [
    "# Advent of Code - Day 2"
   ]
  },
  {
   "cell_type": "code",
   "execution_count": 1,
   "metadata": {},
   "outputs": [],
   "source": [
    "import os\n",
    "import json"
   ]
  },
  {
   "cell_type": "markdown",
   "metadata": {},
   "source": [
    "## Load File Content First"
   ]
  },
  {
   "cell_type": "code",
   "execution_count": 2,
   "metadata": {},
   "outputs": [
    {
     "name": "stdout",
     "output_type": "stream",
     "text": [
      "Length of file content: 1000\n"
     ]
    }
   ],
   "source": [
    "\n",
    "FILE_PATH = \"input.txt\"\n",
    "\n",
    "def open_file(file_path: str) -> list:\n",
    "    \"\"\"\n",
    "    Open file\n",
    "    The file is a txt file\n",
    "    \"\"\"\n",
    "    with open(file_path, 'r') as file:\n",
    "        content = [line.strip() for line in file]\n",
    "    return content\n",
    "\n",
    "FILE_CONTENT = open_file(FILE_PATH)\n",
    "assert isinstance(FILE_CONTENT, list)\n",
    "content_size = len(FILE_CONTENT)\n",
    "print(f\"Length of file content: {content_size}\")"
   ]
  },
  {
   "cell_type": "markdown",
   "metadata": {},
   "source": [
    "## Strategy\n",
    "\n",
    "1. Load the data\n",
    "2. Iterate through each line from the data\n",
    "3. Might need to split the data and convert in a list\n",
    "4. Check if the list is Asc or Desc sorted\n",
    "5. If Yes in 4, then move to the interval calculation, else ignore\n",
    "6. Calculate \"safe\""
   ]
  },
  {
   "cell_type": "code",
   "execution_count": 3,
   "metadata": {},
   "outputs": [
    {
     "name": "stdout",
     "output_type": "stream",
     "text": [
      "65 68 71 72 71\n",
      "['65', '68', '71', '72', '71']\n",
      "[65, 68, 71, 72, 71]\n"
     ]
    }
   ],
   "source": [
    "# Analyze the data\n",
    "t = FILE_CONTENT[0]\n",
    "print(t)\n",
    "print(t.split())\n",
    "\n",
    "# Convert to int\n",
    "t = [int(x) for x in t.split()]\n",
    "print(t)\n",
    "\n",
    "# Make this as a helper function\n",
    "def convert_to_int(data: str) -> list:\n",
    "    return [int(x) for x in data.split()]\n"
   ]
  },
  {
   "cell_type": "code",
   "execution_count": 4,
   "metadata": {},
   "outputs": [],
   "source": [
    "# Iterate through the file content\n",
    "map_data = {}\n",
    "for idx, line in enumerate(FILE_CONTENT):\n",
    "    list_data = convert_to_int(line)\n",
    "    map_data[idx] = list_data\n",
    "\n",
    "assert len(map_data) == content_size"
   ]
  },
  {
   "cell_type": "code",
   "execution_count": 5,
   "metadata": {},
   "outputs": [],
   "source": [
    "# Write a helper function to check sorted state\n",
    "def is_sorted(lst: list) -> bool:\n",
    "    return lst == sorted(lst) or lst == sorted(lst, reverse=True)"
   ]
  },
  {
   "cell_type": "code",
   "execution_count": 6,
   "metadata": {},
   "outputs": [
    {
     "name": "stdout",
     "output_type": "stream",
     "text": [
      "Total sorted lists: 640\n"
     ]
    }
   ],
   "source": [
    "# Iterate through the map data, and check if the list is sorted\n",
    "# If it is, then put it in a new list called sorted_lists\n",
    "\n",
    "sorted_lists = []\n",
    "for key, value in map_data.items():\n",
    "    assert isinstance(value, list)\n",
    "    if is_sorted(value):\n",
    "        sorted_lists.append(value)\n",
    "\n",
    "print(f\"Total sorted lists: {len(sorted_lists)}\")"
   ]
  },
  {
   "cell_type": "code",
   "execution_count": 7,
   "metadata": {},
   "outputs": [],
   "source": [
    "# Okays, now we have the sorted lists\n",
    "# We need the adjacent difference calculation for each list\n",
    "\n",
    "# For EACH list, calculate the difference between adjacent elements\n",
    "# If the difference is minimum 1 and maximum 3, then it is a valid list\n",
    "# Else, break the loop and move to the next list\n",
    "\n",
    "# Note that the lists are either ascending or descending sorted, so the difference should be absolute\n",
    "\n",
    "# All Vald lists are stored in valid_lists\n",
    "\n",
    "def get_valid_lists(sorted_lists: list) -> list:\n",
    "    valid_lists = []\n",
    "    for lst in sorted_lists:\n",
    "        valid = True\n",
    "        for idx in range(1, len(lst)):\n",
    "            diff = abs(lst[idx] - lst[idx-1])\n",
    "            if diff < 1 or diff > 3:\n",
    "                valid = False\n",
    "                break\n",
    "        if valid:\n",
    "            valid_lists.append(lst)\n",
    "\n",
    "    return valid_lists"
   ]
  },
  {
   "cell_type": "code",
   "execution_count": 8,
   "metadata": {},
   "outputs": [],
   "source": [
    "valid_lists = get_valid_lists(sorted_lists)"
   ]
  },
  {
   "cell_type": "code",
   "execution_count": 9,
   "metadata": {},
   "outputs": [
    {
     "name": "stdout",
     "output_type": "stream",
     "text": [
      "Total valid lists: 269\n"
     ]
    }
   ],
   "source": [
    "print(f\"Total valid lists: {len(valid_lists)}\")"
   ]
  },
  {
   "cell_type": "markdown",
   "metadata": {},
   "source": [
    "## Part 1 is correct.\n",
    "\n",
    "### Total Safe Lists are 269 !!"
   ]
  },
  {
   "cell_type": "markdown",
   "metadata": {},
   "source": [
    "## Part 2\n",
    "\n",
    "### Tolerate 1 difference error"
   ]
  },
  {
   "cell_type": "code",
   "execution_count": 10,
   "metadata": {},
   "outputs": [],
   "source": [
    "# okay so part 2 is complex, we will probably brute force it for now, and then if time permits, try to optimize it.append"
   ]
  },
  {
   "cell_type": "code",
   "execution_count": 11,
   "metadata": {},
   "outputs": [
    {
     "data": {
      "text/plain": [
       "337"
      ]
     },
     "execution_count": 11,
     "metadata": {},
     "output_type": "execute_result"
    }
   ],
   "source": [
    "# basically, here's what we need to do:\n",
    "# Context:\n",
    "# - We have the is_sorted function, which checks if a list is sorted\n",
    "# - We have the get_valid_lists function, which checks if a list is valid.\n",
    "\n",
    "# Let's modify the get_valid_lists function to return a boolean value if the list is valid or not, and it will only take a list as input\n",
    "\n",
    "# Before that, we need to start iterating EACH list, remove 1 element at a time, and check if the list is valid or not.\n",
    "\n",
    "\n",
    "# Function structure:\n",
    "\n",
    "# 1. Iterate through all the lists\n",
    "# 2. If the list is sorted, then check if the list is SAFE (valid).\n",
    "# 3. If the list is not SAFE, then remove 1 element at a time, and check if the list is SAFE or sorted.\n",
    "\n",
    "# If the list is SAFE, then add it to the valid lists\n",
    "\n",
    "def check_safe_report_unit(lst: list) -> bool:\n",
    "    \"\"\"\n",
    "    Check if the list is safe or not\n",
    "    \"\"\"\n",
    "    safe = True\n",
    "\n",
    "    if not is_sorted(lst):\n",
    "        return False\n",
    "    \n",
    "    for idx in range(1, len(lst)):\n",
    "        diff = abs(lst[idx] - lst[idx-1])\n",
    "        if diff < 1 or diff > 3:\n",
    "            safe = False\n",
    "            break\n",
    "    \n",
    "    return safe\n",
    "\n",
    "def check_safe_report(lst: list) -> bool:\n",
    "    \"\"\"\n",
    "    Remove one element at a time, and check if the list is safe\n",
    "    \"\"\"\n",
    "    for idx in range(len(lst)):\n",
    "        temp_lst = lst.copy()\n",
    "        temp_lst.pop(idx)\n",
    "        if check_safe_report_unit(temp_lst):\n",
    "            return True\n",
    "    return False\n",
    "\n",
    "def get_valid_lists_v2(map_data: dict) -> int:\n",
    "    safe_v2_lists = []\n",
    "    for _, lst in map_data.items():\n",
    "        if check_safe_report(lst):\n",
    "            safe_v2_lists.append(lst)\n",
    "    \n",
    "    return len(safe_v2_lists)\n",
    "\n",
    "get_valid_lists_v2(map_data)"
   ]
  },
  {
   "cell_type": "code",
   "execution_count": 12,
   "metadata": {},
   "outputs": [
    {
     "name": "stdout",
     "output_type": "stream",
     "text": [
      "Total Safe Lists: 337\n"
     ]
    }
   ],
   "source": [
    "print(f\"Total Safe Lists: {get_valid_lists_v2(map_data)}\")"
   ]
  },
  {
   "cell_type": "markdown",
   "metadata": {},
   "source": [
    "## Part 2 is correct!"
   ]
  },
  {
   "cell_type": "markdown",
   "metadata": {},
   "source": []
  }
 ],
 "metadata": {
  "kernelspec": {
   "display_name": "advent-of-code-7X3w5DMP-py3.13",
   "language": "python",
   "name": "python3"
  },
  "language_info": {
   "codemirror_mode": {
    "name": "ipython",
    "version": 3
   },
   "file_extension": ".py",
   "mimetype": "text/x-python",
   "name": "python",
   "nbconvert_exporter": "python",
   "pygments_lexer": "ipython3",
   "version": "3.13.0"
  }
 },
 "nbformat": 4,
 "nbformat_minor": 2
}
