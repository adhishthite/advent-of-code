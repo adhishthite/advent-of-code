{
 "cells": [
  {
   "cell_type": "markdown",
   "metadata": {},
   "source": [
    "# Advent of Code - Day 3"
   ]
  },
  {
   "cell_type": "code",
   "execution_count": 1,
   "metadata": {},
   "outputs": [],
   "source": [
    "import os\n",
    "import json"
   ]
  },
  {
   "cell_type": "markdown",
   "metadata": {},
   "source": [
    "## Load File Content First"
   ]
  },
  {
   "cell_type": "code",
   "execution_count": 2,
   "metadata": {},
   "outputs": [
    {
     "name": "stdout",
     "output_type": "stream",
     "text": [
      "Length of file content: 6\n"
     ]
    }
   ],
   "source": [
    "FILE_PATH = \"input.txt\"\n",
    "\n",
    "def open_file(file_path: str) -> list:\n",
    "    \"\"\"\n",
    "    Open file\n",
    "    The file is a txt file\n",
    "    \"\"\"\n",
    "    with open(file_path, 'r') as file:\n",
    "        content = [line.strip() for line in file]\n",
    "    return content\n",
    "\n",
    "FILE_CONTENT = open_file(FILE_PATH)\n",
    "assert isinstance(FILE_CONTENT, list)\n",
    "content_size = len(FILE_CONTENT)\n",
    "print(f\"Length of file content: {content_size}\")"
   ]
  },
  {
   "cell_type": "markdown",
   "metadata": {},
   "source": [
    "## Strategy\n",
    "\n",
    "1. We need a logic that can read each line, and filter it based on the pattern: `mul(x,y)`\n",
    "2. This can be achieved using a regex\n",
    "3. Then we can create a function that takes in that string and multiples the number.\n",
    "4. Note that the length of each param is 1 to 3."
   ]
  },
  {
   "cell_type": "code",
   "execution_count": 3,
   "metadata": {},
   "outputs": [
    {
     "name": "stdout",
     "output_type": "stream",
     "text": [
      "Part 1 - The sum of the multiplication is: 190604937\n"
     ]
    }
   ],
   "source": [
    "import re\n",
    "\n",
    "def get_mul_v1(pattern: str) -> int:\n",
    "    \"\"\"\n",
    "    Get the multiplication of the numbers in the text\n",
    "    \"\"\"\n",
    "    # TODO: Handle spaces in the string because we should not consider those patterns\n",
    "    if \" \" in pattern:\n",
    "        return 0\n",
    "    pattern = pattern.split(\"mul\")[1].split(\"(\")[1].split(\")\")[0].split(\",\")\n",
    "    pattern = [int(i) for i in pattern]\n",
    "    return pattern[0] * pattern[1]\n",
    "\n",
    "\n",
    "def catch_mul_pattern_v1(text: str) -> int:\n",
    "    \"\"\"\n",
    "    Catch the multiplication pattern\n",
    "    \"\"\"\n",
    "    pattern: list = re.findall(r\"mul\\(\\d+,\\d+\\)\", text)\n",
    "    return pattern\n",
    "\n",
    "\n",
    "def get_sum_pattern_v1(content: str) -> int:\n",
    "    result: list = []\n",
    "    for string in content:\n",
    "        pattern = catch_mul_pattern_v1(string)\n",
    "\n",
    "        for p in pattern:\n",
    "            result.append(get_mul_v1(p))\n",
    "\n",
    "    return sum(result)\n",
    "\n",
    "part_1_result = get_sum_pattern_v1(FILE_CONTENT)\n",
    "print(f\"Part 1 - The sum of the multiplication is: {part_1_result}\")\n"
   ]
  },
  {
   "cell_type": "markdown",
   "metadata": {},
   "source": [
    "### Part 1 is CORRECT!"
   ]
  },
  {
   "cell_type": "markdown",
   "metadata": {},
   "source": [
    "### PART 2 - Enable `do()` and `don't()`"
   ]
  },
  {
   "cell_type": "code",
   "execution_count": 4,
   "metadata": {},
   "outputs": [
    {
     "name": "stdout",
     "output_type": "stream",
     "text": [
      "Part 2 - The sum of the multiplication is: 87020895\n"
     ]
    }
   ],
   "source": [
    "import re\n",
    "from typing import List, Tuple\n",
    "\n",
    "def catch_mul_pattern_v2(text: str):\n",
    "    \"\"\"\n",
    "    Catch the multiplication pattern based on the specified conditions:\n",
    "    1. Get all text from the start until the first `don't()`.\n",
    "    2. Ignore the string until the first `do()`.\n",
    "    3. Capture all strings between each `do()` and the next `don't()` or until the end if no `don't()` exists after a `do()`.\n",
    "    \"\"\"\n",
    "    # Step 1: Capture everything before the first `don't()`\n",
    "    before_dont_match = re.search(r\"^(.*?)don't\\(\\)\", text)\n",
    "    if before_dont_match:\n",
    "        before_dont = before_dont_match.group(1)\n",
    "        # Remove the matched portion from the text for further processing\n",
    "        text = text[before_dont_match.end():]\n",
    "    else:\n",
    "        before_dont = \"\"\n",
    "\n",
    "    # Step 2: Capture all segments between `do()` and `don't()`\n",
    "    do_dont_matches = re.findall(r\"do\\(\\)(.*?)(?=don't\\(\\)|$)\", text)\n",
    "\n",
    "    # Concatenate all segments into a single string\n",
    "    do_dont_matches = \"\".join(do_dont_matches)\n",
    "    \n",
    "    return before_dont, do_dont_matches\n",
    "\n",
    "# Start iterating\n",
    "def get_sum_pattern_v2(content: str) -> int:\n",
    "    result: list = []\n",
    "    for string in content:\n",
    "        string_v2_p1, string_v2_p2 = catch_mul_pattern_v2(string)\n",
    "        string_v2 = string_v2_p1 + string_v2_p2\n",
    "        result.append(get_sum_pattern_v1([string_v2]))\n",
    "\n",
    "    return sum(result)\n",
    "\n",
    "part_2_result = get_sum_pattern_v2(FILE_CONTENT)\n",
    "print(f\"Part 2 - The sum of the multiplication is: {part_2_result}\")"
   ]
  },
  {
   "cell_type": "markdown",
   "metadata": {},
   "source": [
    "#### After multiple attempts at this, I am still getting `87020895` which AoC says is \"TOO HIGH\""
   ]
  },
  {
   "cell_type": "markdown",
   "metadata": {},
   "source": [
    "#### So, we need to change the approach"
   ]
  },
  {
   "cell_type": "code",
   "execution_count": 5,
   "metadata": {},
   "outputs": [
    {
     "name": "stdout",
     "output_type": "stream",
     "text": [
      "Part 2 - The sum of the multiplication is: 82857512\n"
     ]
    }
   ],
   "source": [
    "# Assume that the disabled instructions are continued to be disabled until the next `do()` instruction through the new line too.\n",
    "CONCAT_FILE_CONTENT = \" \".join(FILE_CONTENT)\n",
    "part_2_result = get_sum_pattern_v2([CONCAT_FILE_CONTENT])\n",
    "print(f\"Part 2 - The sum of the multiplication is: {part_2_result}\")"
   ]
  },
  {
   "cell_type": "markdown",
   "metadata": {},
   "source": [
    "### `82857512` IS THE CORRECT ANSWER!"
   ]
  },
  {
   "cell_type": "markdown",
   "metadata": {},
   "source": []
  }
 ],
 "metadata": {
  "kernelspec": {
   "display_name": "advent-of-code-7X3w5DMP-py3.13",
   "language": "python",
   "name": "python3"
  },
  "language_info": {
   "codemirror_mode": {
    "name": "ipython",
    "version": 3
   },
   "file_extension": ".py",
   "mimetype": "text/x-python",
   "name": "python",
   "nbconvert_exporter": "python",
   "pygments_lexer": "ipython3",
   "version": "3.13.0"
  }
 },
 "nbformat": 4,
 "nbformat_minor": 2
}
