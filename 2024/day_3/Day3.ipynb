{
 "cells": [
  {
   "cell_type": "markdown",
   "metadata": {},
   "source": [
    "# Advent of Code - Day 3"
   ]
  },
  {
   "cell_type": "code",
   "execution_count": 1,
   "metadata": {},
   "outputs": [],
   "source": [
    "import os\n",
    "import json"
   ]
  },
  {
   "cell_type": "markdown",
   "metadata": {},
   "source": [
    "## Load File Content First"
   ]
  },
  {
   "cell_type": "code",
   "execution_count": 2,
   "metadata": {},
   "outputs": [
    {
     "name": "stdout",
     "output_type": "stream",
     "text": [
      "Length of file content: 6\n"
     ]
    }
   ],
   "source": [
    "FILE_PATH = \"input.txt\"\n",
    "\n",
    "def open_file(file_path: str) -> list:\n",
    "    \"\"\"\n",
    "    Open file\n",
    "    The file is a txt file\n",
    "    \"\"\"\n",
    "    with open(file_path, 'r') as file:\n",
    "        content = [line.strip() for line in file]\n",
    "    return content\n",
    "\n",
    "FILE_CONTENT = open_file(FILE_PATH)\n",
    "assert isinstance(FILE_CONTENT, list)\n",
    "content_size = len(FILE_CONTENT)\n",
    "print(f\"Length of file content: {content_size}\")"
   ]
  },
  {
   "cell_type": "markdown",
   "metadata": {},
   "source": [
    "## Strategy\n",
    "\n",
    "1. We need a logic that can read each line, and filter it based on the pattern: `mul(x,y)`\n",
    "2. This can be achieved using a regex\n",
    "3. Then we can create a function that takes in that string and multiples the number.\n",
    "4. Note that the length of each param is 1 to 3."
   ]
  },
  {
   "cell_type": "code",
   "execution_count": 3,
   "metadata": {},
   "outputs": [
    {
     "name": "stdout",
     "output_type": "stream",
     "text": [
      "Part 1 - The sum of the multiplication is: 190604937\n"
     ]
    }
   ],
   "source": [
    "import re\n",
    "\n",
    "def get_mul_v1(pattern: str) -> int:\n",
    "    \"\"\"\n",
    "    Get the multiplication of the numbers in the text\n",
    "    \"\"\"\n",
    "    # TODO: Handle spaces in the string because we should not consider those patterns\n",
    "    if \" \" in pattern:\n",
    "        return 0\n",
    "    pattern = pattern.split(\"mul\")[1].split(\"(\")[1].split(\")\")[0].split(\",\")\n",
    "    pattern = [int(i) for i in pattern]\n",
    "    return pattern[0] * pattern[1]\n",
    "\n",
    "\n",
    "def catch_mul_pattern_v1(text: str) -> int:\n",
    "    \"\"\"\n",
    "    Catch the multiplication pattern\n",
    "    \"\"\"\n",
    "    pattern: list = re.findall(r\"mul\\(\\d+,\\d+\\)\", text)\n",
    "    return pattern\n",
    "\n",
    "\n",
    "def get_sum_pattern_v1(content: str) -> int:\n",
    "    result: list = []\n",
    "    for string in content:\n",
    "        pattern = catch_mul_pattern_v1(string)\n",
    "\n",
    "        for p in pattern:\n",
    "            result.append(get_mul_v1(p))\n",
    "\n",
    "    return sum(result)\n",
    "\n",
    "part_1_result = get_sum_pattern_v1(FILE_CONTENT)\n",
    "print(f\"Part 1 - The sum of the multiplication is: {part_1_result}\")\n"
   ]
  },
  {
   "cell_type": "markdown",
   "metadata": {},
   "source": [
    "### Part 1 is CORRECT!"
   ]
  },
  {
   "cell_type": "markdown",
   "metadata": {},
   "source": [
    "### PART 2 - Enable `do()` and `don't()`"
   ]
  },
  {
   "cell_type": "code",
   "execution_count": 4,
   "metadata": {},
   "outputs": [
    {
     "name": "stdout",
     "output_type": "stream",
     "text": [
      "Line 1 sum: 16869727\n",
      "Line 2 sum: 17291584\n",
      "Line 3 sum: 23429438\n",
      "Line 4 sum: 6997020\n",
      "Line 5 sum: 8524219\n",
      "Line 6 sum: 13908907\n",
      "Part 2 answer: 87020895\n"
     ]
    }
   ],
   "source": [
    "import re\n",
    "from typing import List, Tuple\n",
    "\n",
    "def find_all_instructions(text: str) -> List[Tuple[int, str]]:\n",
    "    \"\"\"\n",
    "    Find all instruction positions in order of appearance.\n",
    "    Returns list of (position, instruction) pairs.\n",
    "    Each instruction will be either 'mul(x,y)', 'do()', or 'dont()'\n",
    "    \"\"\"\n",
    "    instructions = []\n",
    "    i = 0\n",
    "    while i < len(text):\n",
    "        # Check for control instructions first\n",
    "        if text[i:].startswith('do()'):\n",
    "            instructions.append((i, 'do()'))\n",
    "            i += 4\n",
    "        elif text[i:].startswith(\"don't()\"):\n",
    "            instructions.append((i, \"don't()\"))\n",
    "            i += 7\n",
    "        # Then check for multiplication\n",
    "        elif text[i:].startswith('mul('):\n",
    "            # Find the closing parenthesis\n",
    "            close_pos = text.find(')', i)\n",
    "            if close_pos != -1:\n",
    "                potential_mul = text[i:close_pos+1]\n",
    "                # Verify it's a valid multiplication\n",
    "                if re.match(r'mul\\(\\d{1,3},\\d{1,3}\\)', potential_mul):\n",
    "                    instructions.append((i, potential_mul))\n",
    "                    i = close_pos + 1\n",
    "                    continue\n",
    "            i += 1\n",
    "        else:\n",
    "            i += 1\n",
    "    return instructions\n",
    "\n",
    "def calculate_multiplication(mul_str: str) -> int:\n",
    "    \"\"\"Extract numbers from mul(x,y) and return their product\"\"\"\n",
    "    numbers = re.match(r'mul\\((\\d{1,3}),(\\d{1,3})\\)', mul_str)\n",
    "    if not numbers:\n",
    "        return 0\n",
    "    x, y = map(int, numbers.groups())\n",
    "    return x * y\n",
    "\n",
    "def process_line(line: str) -> int:\n",
    "    \"\"\"Process a single line and return sum of enabled multiplications\"\"\"\n",
    "    instructions = find_all_instructions(line)\n",
    "    enabled = True  # Start enabled\n",
    "    total = 0\n",
    "    \n",
    "    for pos, instruction in instructions:\n",
    "        if instruction == 'do()':\n",
    "            enabled = True\n",
    "        elif instruction == \"don't()\":\n",
    "            enabled = False\n",
    "        elif instruction.startswith('mul(') and enabled:\n",
    "            total += calculate_multiplication(instruction)\n",
    "    \n",
    "    return total\n",
    "\n",
    "def solve_part2(lines: List[str], debug: bool = False) -> int:\n",
    "    \"\"\"Solve part 2 for all lines\"\"\"\n",
    "    total = 0\n",
    "    for i, line in enumerate(lines):\n",
    "        line_sum = process_line(line)\n",
    "        if debug:\n",
    "            print(f\"Line {i+1} sum: {line_sum}\")\n",
    "        total += line_sum\n",
    "    return total\n",
    "\n",
    "# Then solve actual input\n",
    "result = solve_part2(FILE_CONTENT, debug=True)\n",
    "print(f\"Part 2 answer: {result}\")"
   ]
  },
  {
   "cell_type": "code",
   "execution_count": 5,
   "metadata": {},
   "outputs": [
    {
     "name": "stdout",
     "output_type": "stream",
     "text": [
      "Part 2 - The sum of the multiplication is: 87020895\n"
     ]
    }
   ],
   "source": [
    "def catch_mul_pattern_v2(text: str):\n",
    "    \"\"\"\n",
    "    Catch the multiplication pattern based on the specified conditions:\n",
    "    1. Get all text from the start until the first `don't()`.\n",
    "    2. Ignore the string until the first `do()`.\n",
    "    3. Capture all strings between each `do()` and the next `don't()` or until the end if no `don't()` exists after a `do()`.\n",
    "    \"\"\"\n",
    "    # Step 1: Capture everything before the first `don't()`\n",
    "    before_dont_match = re.search(r\"^(.*?)don't\\(\\)\", text)\n",
    "    if before_dont_match:\n",
    "        before_dont = before_dont_match.group(1)\n",
    "        # Remove the matched portion from the text for further processing\n",
    "        text = text[before_dont_match.end():]\n",
    "    else:\n",
    "        before_dont = \"\"\n",
    "\n",
    "    # Step 2: Capture all segments between `do()` and `don't()`\n",
    "    do_dont_matches = re.findall(r\"do\\(\\)(.*?)(?=don't\\(\\)|$)\", text)\n",
    "\n",
    "    # Concatenate all segments into a single string\n",
    "    do_dont_matches = \"\".join(do_dont_matches)\n",
    "    \n",
    "    return before_dont, do_dont_matches\n",
    "\n",
    "# Start iterating\n",
    "def get_sum_pattern_v2(content: str) -> int:\n",
    "    result: list = []\n",
    "    for string in content:\n",
    "        string_v2_p1, string_v2_p2 = catch_mul_pattern_v2(string)\n",
    "        string_v2 = string_v2_p1 + string_v2_p2\n",
    "        result.append(get_sum_pattern_v1([string_v2]))\n",
    "\n",
    "    return sum(result)\n",
    "\n",
    "part_2_result = get_sum_pattern_v2(FILE_CONTENT)\n",
    "print(f\"Part 2 - The sum of the multiplication is: {part_2_result}\")"
   ]
  },
  {
   "cell_type": "markdown",
   "metadata": {},
   "source": [
    "#### After multiple attempts at this, I am still getting `87020895` which AoC says is \"TOO HIGH\""
   ]
  },
  {
   "cell_type": "markdown",
   "metadata": {},
   "source": [
    "#### So, we need to change the approach"
   ]
  },
  {
   "cell_type": "code",
   "execution_count": 6,
   "metadata": {},
   "outputs": [
    {
     "name": "stdout",
     "output_type": "stream",
     "text": [
      "Part 2 - The sum of the multiplication is: 82857512\n"
     ]
    }
   ],
   "source": [
    "# Assume that the disabled instructions are continued to be disabled until the next `do()` instruction through the new line too.\n",
    "CONCAT_FILE_CONTENT = \" \".join(FILE_CONTENT)\n",
    "part_2_result = get_sum_pattern_v2([CONCAT_FILE_CONTENT])\n",
    "print(f\"Part 2 - The sum of the multiplication is: {part_2_result}\")"
   ]
  },
  {
   "cell_type": "markdown",
   "metadata": {},
   "source": [
    "### `82857512` IS THE CORRECT ANSWER!"
   ]
  },
  {
   "cell_type": "markdown",
   "metadata": {},
   "source": []
  }
 ],
 "metadata": {
  "kernelspec": {
   "display_name": "advent-of-code-7X3w5DMP-py3.13",
   "language": "python",
   "name": "python3"
  },
  "language_info": {
   "codemirror_mode": {
    "name": "ipython",
    "version": 3
   },
   "file_extension": ".py",
   "mimetype": "text/x-python",
   "name": "python",
   "nbconvert_exporter": "python",
   "pygments_lexer": "ipython3",
   "version": "3.13.0"
  }
 },
 "nbformat": 4,
 "nbformat_minor": 2
}
